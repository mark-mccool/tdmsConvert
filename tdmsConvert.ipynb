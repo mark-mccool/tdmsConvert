{
 "cells": [
  {
   "cell_type": "markdown",
   "metadata": {},
   "source": [
    "# .tdms File Conversion\n",
    "### Converts National Instruments (NI) Labview .tdms files to .csv or .xls with python\n",
    "*Mark McCool*"
   ]
  },
  {
   "cell_type": "markdown",
   "metadata": {},
   "source": [
    "# Motivation\n",
    "- Needed a way to access .tdms files with using DIAdem or an excel plug-in\n",
    "- Wanted ability to use python data science tools for analysis and visualization\n",
    "# Resourses\n",
    "- [Jupyter Notebook](http://jupyter.org/)\n",
    "- [npTDMS Python Package](https://nptdms.readthedocs.io/en/latest/)\n"
   ]
  },
  {
   "cell_type": "code",
   "execution_count": 2,
   "metadata": {},
   "outputs": [],
   "source": [
    "#import nptdms library\n",
    "from nptdms import TdmsFile as td\n",
    "#converts labview sample file \"Example.tdms\" to \"Example.csv\"\n",
    "td('Example.tdms').as_dataframe().to_csv('Example.csv')\n",
    "#converts labview sample file \"Example.tdms\" to \"Example.xls\"\n",
    "td('Example.tdms').as_dataframe().to_excel('Example.xls')"
   ]
  }
 ],
 "metadata": {
  "kernelspec": {
   "display_name": "Python 3",
   "language": "python",
   "name": "python3"
  },
  "language_info": {
   "codemirror_mode": {
    "name": "ipython",
    "version": 3
   },
   "file_extension": ".py",
   "mimetype": "text/x-python",
   "name": "python",
   "nbconvert_exporter": "python",
   "pygments_lexer": "ipython3",
   "version": "3.6.3"
  }
 },
 "nbformat": 4,
 "nbformat_minor": 2
}
